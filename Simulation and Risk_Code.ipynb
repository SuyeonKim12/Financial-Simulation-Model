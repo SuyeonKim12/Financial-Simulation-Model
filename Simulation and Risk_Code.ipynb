{
 "cells": [
  {
   "cell_type": "code",
   "execution_count": 33,
   "metadata": {},
   "outputs": [],
   "source": [
    "import pandas as pd\n",
    "import numpy as np\n",
    "import seaborn as sns\n",
    "from scipy.stats import gaussian_kde\n",
    "import matplotlib.pyplot as plt\n",
    "from scipy.stats import shapiro, norm, probplot\n",
    "import scipy as sp"
   ]
  },
  {
   "cell_type": "markdown",
   "metadata": {},
   "source": [
    "# Homework 1"
   ]
  },
  {
   "cell_type": "code",
   "execution_count": 34,
   "metadata": {},
   "outputs": [],
   "source": [
    "cost = pd.read_excel('//Users/suyeonkim/Documents/IAA/Spring 1/Simulation and Risk/Homework2_SR/Analysis_Data.xlsx', sheet_name= 'Drilling Cost' , skiprows = 2)\n",
    "price = pd.read_excel('//Users/suyeonkim/Documents/IAA/Spring 1/Simulation and Risk/Homework2_SR/Analysis_Data.xlsx', sheet_name= 'Price Projections' , skiprows = 2)\n"
   ]
  },
  {
   "cell_type": "code",
   "execution_count": 35,
   "metadata": {},
   "outputs": [
    {
     "data": {
      "text/plain": [
       "Index(['Date',\n",
       "       'U.S. Nominal Cost per Crude Oil Well Drilled (Thousand Dollars per Well)',\n",
       "       'U.S. Nominal Cost per Natural Gas Well Drilled (Thousand Dollars per Well)',\n",
       "       'U.S. Nominal Cost per Dry Well Drilled (Thousand Dollars per Well)',\n",
       "       'Arithmetic Return - Crude Oil', 'Arithmetic Return - Natural Gas',\n",
       "       'Arithmetic Return - Dry Well'],\n",
       "      dtype='object')"
      ]
     },
     "execution_count": 35,
     "metadata": {},
     "output_type": "execute_result"
    }
   ],
   "source": [
    "cost.columns"
   ]
  },
  {
   "cell_type": "code",
   "execution_count": 36,
   "metadata": {},
   "outputs": [
    {
     "data": {
      "text/plain": [
       "Index(['Year', 'High Oil Price', 'Low Oil Price', 'AEO2023 Reference'], dtype='object')"
      ]
     },
     "execution_count": 36,
     "metadata": {},
     "output_type": "execute_result"
    }
   ],
   "source": [
    "price.columns"
   ]
  },
  {
   "cell_type": "code",
   "execution_count": 37,
   "metadata": {},
   "outputs": [],
   "source": [
    "cost['Date'] = pd.to_datetime(cost['Date'])\n",
    "cost = cost[(cost['Date'] >= \"1991-01-01\") & (cost['Date'] <= \"2006-12-31\")]\n",
    "#cost['Avg Return'] = (cost[\"Arithmetic Return - Crude Oil\"] + cost[\"Arithmetic Return - Dry Well\"] + cost[\"Arithmetic Return - Natural Gas\"])/3\n",
    "#cost['Avg Return'] = pd.to_numeric(cost['Avg Return'], errors='coerce')\n",
    "\n",
    "cost['Avg Cost'] = (cost[\"U.S. Nominal Cost per Crude Oil Well Drilled (Thousand Dollars per Well)\"] + cost[\"U.S. Nominal Cost per Dry Well Drilled (Thousand Dollars per Well)\"] + cost[\"U.S. Nominal Cost per Natural Gas Well Drilled (Thousand Dollars per Well)\"])/3\n",
    "cost['Avg Cost'] = pd.to_numeric(cost['Avg Cost'], errors='coerce')\n",
    "\n",
    "cost['Arithmetic Return - Crude Oil'] = pd.to_numeric(cost['Arithmetic Return - Crude Oil'], errors='coerce')\n",
    "cost['Arithmetic Return - Dry Well'] = pd.to_numeric(cost['Arithmetic Return - Dry Well'], errors='coerce')\n",
    "cost['Arithmetic Return - Natural Gas'] = pd.to_numeric(cost['Arithmetic Return - Natural Gas'], errors='coerce')"
   ]
  },
  {
   "cell_type": "code",
   "execution_count": 38,
   "metadata": {},
   "outputs": [
    {
     "data": {
      "text/html": [
       "<div>\n",
       "<style scoped>\n",
       "    .dataframe tbody tr th:only-of-type {\n",
       "        vertical-align: middle;\n",
       "    }\n",
       "\n",
       "    .dataframe tbody tr th {\n",
       "        vertical-align: top;\n",
       "    }\n",
       "\n",
       "    .dataframe thead th {\n",
       "        text-align: right;\n",
       "    }\n",
       "</style>\n",
       "<table border=\"1\" class=\"dataframe\">\n",
       "  <thead>\n",
       "    <tr style=\"text-align: right;\">\n",
       "      <th></th>\n",
       "      <th>Date</th>\n",
       "      <th>U.S. Nominal Cost per Crude Oil Well Drilled (Thousand Dollars per Well)</th>\n",
       "      <th>U.S. Nominal Cost per Natural Gas Well Drilled (Thousand Dollars per Well)</th>\n",
       "      <th>U.S. Nominal Cost per Dry Well Drilled (Thousand Dollars per Well)</th>\n",
       "      <th>Arithmetic Return - Crude Oil</th>\n",
       "      <th>Arithmetic Return - Natural Gas</th>\n",
       "      <th>Arithmetic Return - Dry Well</th>\n",
       "      <th>Avg Cost</th>\n",
       "    </tr>\n",
       "  </thead>\n",
       "  <tbody>\n",
       "    <tr>\n",
       "      <th>31</th>\n",
       "      <td>1991-06-30</td>\n",
       "      <td>346.9</td>\n",
       "      <td>506.6</td>\n",
       "      <td>441.2</td>\n",
       "      <td>0.077999</td>\n",
       "      <td>0.074899</td>\n",
       "      <td>0.200544</td>\n",
       "      <td>431.566667</td>\n",
       "    </tr>\n",
       "    <tr>\n",
       "      <th>32</th>\n",
       "      <td>1992-06-30</td>\n",
       "      <td>362.3</td>\n",
       "      <td>426.1</td>\n",
       "      <td>357.6</td>\n",
       "      <td>0.044393</td>\n",
       "      <td>-0.158902</td>\n",
       "      <td>-0.189483</td>\n",
       "      <td>382.000000</td>\n",
       "    </tr>\n",
       "    <tr>\n",
       "      <th>33</th>\n",
       "      <td>1993-06-30</td>\n",
       "      <td>356.6</td>\n",
       "      <td>521.2</td>\n",
       "      <td>387.7</td>\n",
       "      <td>-0.015733</td>\n",
       "      <td>0.223187</td>\n",
       "      <td>0.084172</td>\n",
       "      <td>421.833333</td>\n",
       "    </tr>\n",
       "    <tr>\n",
       "      <th>34</th>\n",
       "      <td>1994-06-30</td>\n",
       "      <td>409.5</td>\n",
       "      <td>535.1</td>\n",
       "      <td>491.5</td>\n",
       "      <td>0.148345</td>\n",
       "      <td>0.026669</td>\n",
       "      <td>0.267733</td>\n",
       "      <td>478.700000</td>\n",
       "    </tr>\n",
       "    <tr>\n",
       "      <th>35</th>\n",
       "      <td>1995-06-30</td>\n",
       "      <td>415.8</td>\n",
       "      <td>629.7</td>\n",
       "      <td>481.2</td>\n",
       "      <td>0.015385</td>\n",
       "      <td>0.176789</td>\n",
       "      <td>-0.020956</td>\n",
       "      <td>508.900000</td>\n",
       "    </tr>\n",
       "    <tr>\n",
       "      <th>36</th>\n",
       "      <td>1996-06-30</td>\n",
       "      <td>341.0</td>\n",
       "      <td>616.0</td>\n",
       "      <td>541.0</td>\n",
       "      <td>-0.179894</td>\n",
       "      <td>-0.021756</td>\n",
       "      <td>0.124273</td>\n",
       "      <td>499.333333</td>\n",
       "    </tr>\n",
       "    <tr>\n",
       "      <th>37</th>\n",
       "      <td>1997-06-30</td>\n",
       "      <td>445.6</td>\n",
       "      <td>728.6</td>\n",
       "      <td>655.6</td>\n",
       "      <td>0.306745</td>\n",
       "      <td>0.182792</td>\n",
       "      <td>0.211830</td>\n",
       "      <td>609.933333</td>\n",
       "    </tr>\n",
       "    <tr>\n",
       "      <th>38</th>\n",
       "      <td>1998-06-30</td>\n",
       "      <td>566.0</td>\n",
       "      <td>815.6</td>\n",
       "      <td>973.2</td>\n",
       "      <td>0.270197</td>\n",
       "      <td>0.119407</td>\n",
       "      <td>0.484442</td>\n",
       "      <td>784.933333</td>\n",
       "    </tr>\n",
       "    <tr>\n",
       "      <th>39</th>\n",
       "      <td>1999-06-30</td>\n",
       "      <td>783.0</td>\n",
       "      <td>798.4</td>\n",
       "      <td>1115.5</td>\n",
       "      <td>0.383392</td>\n",
       "      <td>-0.021089</td>\n",
       "      <td>0.146219</td>\n",
       "      <td>898.966667</td>\n",
       "    </tr>\n",
       "    <tr>\n",
       "      <th>40</th>\n",
       "      <td>2000-06-30</td>\n",
       "      <td>593.4</td>\n",
       "      <td>756.9</td>\n",
       "      <td>1075.4</td>\n",
       "      <td>-0.242146</td>\n",
       "      <td>-0.051979</td>\n",
       "      <td>-0.035948</td>\n",
       "      <td>808.566667</td>\n",
       "    </tr>\n",
       "    <tr>\n",
       "      <th>41</th>\n",
       "      <td>2001-06-30</td>\n",
       "      <td>729.1</td>\n",
       "      <td>896.5</td>\n",
       "      <td>1620.4</td>\n",
       "      <td>0.228682</td>\n",
       "      <td>0.184437</td>\n",
       "      <td>0.506788</td>\n",
       "      <td>1082.000000</td>\n",
       "    </tr>\n",
       "    <tr>\n",
       "      <th>42</th>\n",
       "      <td>2002-06-30</td>\n",
       "      <td>882.8</td>\n",
       "      <td>991.9</td>\n",
       "      <td>1673.4</td>\n",
       "      <td>0.210808</td>\n",
       "      <td>0.106414</td>\n",
       "      <td>0.032708</td>\n",
       "      <td>1182.700000</td>\n",
       "    </tr>\n",
       "    <tr>\n",
       "      <th>43</th>\n",
       "      <td>2003-06-30</td>\n",
       "      <td>1037.3</td>\n",
       "      <td>1106.0</td>\n",
       "      <td>2065.1</td>\n",
       "      <td>0.175011</td>\n",
       "      <td>0.115032</td>\n",
       "      <td>0.234074</td>\n",
       "      <td>1402.800000</td>\n",
       "    </tr>\n",
       "    <tr>\n",
       "      <th>44</th>\n",
       "      <td>2004-06-30</td>\n",
       "      <td>1441.8</td>\n",
       "      <td>1716.4</td>\n",
       "      <td>1977.3</td>\n",
       "      <td>0.389955</td>\n",
       "      <td>0.551899</td>\n",
       "      <td>-0.042516</td>\n",
       "      <td>1711.833333</td>\n",
       "    </tr>\n",
       "    <tr>\n",
       "      <th>45</th>\n",
       "      <td>2005-06-30</td>\n",
       "      <td>1920.4</td>\n",
       "      <td>1497.6</td>\n",
       "      <td>2392.9</td>\n",
       "      <td>0.331946</td>\n",
       "      <td>-0.127476</td>\n",
       "      <td>0.210186</td>\n",
       "      <td>1936.966667</td>\n",
       "    </tr>\n",
       "    <tr>\n",
       "      <th>46</th>\n",
       "      <td>2006-06-30</td>\n",
       "      <td>2238.6</td>\n",
       "      <td>1936.2</td>\n",
       "      <td>2664.6</td>\n",
       "      <td>0.165695</td>\n",
       "      <td>0.292869</td>\n",
       "      <td>0.113544</td>\n",
       "      <td>2279.800000</td>\n",
       "    </tr>\n",
       "  </tbody>\n",
       "</table>\n",
       "</div>"
      ],
      "text/plain": [
       "         Date  \\\n",
       "31 1991-06-30   \n",
       "32 1992-06-30   \n",
       "33 1993-06-30   \n",
       "34 1994-06-30   \n",
       "35 1995-06-30   \n",
       "36 1996-06-30   \n",
       "37 1997-06-30   \n",
       "38 1998-06-30   \n",
       "39 1999-06-30   \n",
       "40 2000-06-30   \n",
       "41 2001-06-30   \n",
       "42 2002-06-30   \n",
       "43 2003-06-30   \n",
       "44 2004-06-30   \n",
       "45 2005-06-30   \n",
       "46 2006-06-30   \n",
       "\n",
       "    U.S. Nominal Cost per Crude Oil Well Drilled (Thousand Dollars per Well)  \\\n",
       "31                                              346.9                          \n",
       "32                                              362.3                          \n",
       "33                                              356.6                          \n",
       "34                                              409.5                          \n",
       "35                                              415.8                          \n",
       "36                                              341.0                          \n",
       "37                                              445.6                          \n",
       "38                                              566.0                          \n",
       "39                                              783.0                          \n",
       "40                                              593.4                          \n",
       "41                                              729.1                          \n",
       "42                                              882.8                          \n",
       "43                                             1037.3                          \n",
       "44                                             1441.8                          \n",
       "45                                             1920.4                          \n",
       "46                                             2238.6                          \n",
       "\n",
       "    U.S. Nominal Cost per Natural Gas Well Drilled (Thousand Dollars per Well)  \\\n",
       "31                                              506.6                            \n",
       "32                                              426.1                            \n",
       "33                                              521.2                            \n",
       "34                                              535.1                            \n",
       "35                                              629.7                            \n",
       "36                                              616.0                            \n",
       "37                                              728.6                            \n",
       "38                                              815.6                            \n",
       "39                                              798.4                            \n",
       "40                                              756.9                            \n",
       "41                                              896.5                            \n",
       "42                                              991.9                            \n",
       "43                                             1106.0                            \n",
       "44                                             1716.4                            \n",
       "45                                             1497.6                            \n",
       "46                                             1936.2                            \n",
       "\n",
       "    U.S. Nominal Cost per Dry Well Drilled (Thousand Dollars per Well)  \\\n",
       "31                                              441.2                    \n",
       "32                                              357.6                    \n",
       "33                                              387.7                    \n",
       "34                                              491.5                    \n",
       "35                                              481.2                    \n",
       "36                                              541.0                    \n",
       "37                                              655.6                    \n",
       "38                                              973.2                    \n",
       "39                                             1115.5                    \n",
       "40                                             1075.4                    \n",
       "41                                             1620.4                    \n",
       "42                                             1673.4                    \n",
       "43                                             2065.1                    \n",
       "44                                             1977.3                    \n",
       "45                                             2392.9                    \n",
       "46                                             2664.6                    \n",
       "\n",
       "    Arithmetic Return - Crude Oil  Arithmetic Return - Natural Gas  \\\n",
       "31                       0.077999                         0.074899   \n",
       "32                       0.044393                        -0.158902   \n",
       "33                      -0.015733                         0.223187   \n",
       "34                       0.148345                         0.026669   \n",
       "35                       0.015385                         0.176789   \n",
       "36                      -0.179894                        -0.021756   \n",
       "37                       0.306745                         0.182792   \n",
       "38                       0.270197                         0.119407   \n",
       "39                       0.383392                        -0.021089   \n",
       "40                      -0.242146                        -0.051979   \n",
       "41                       0.228682                         0.184437   \n",
       "42                       0.210808                         0.106414   \n",
       "43                       0.175011                         0.115032   \n",
       "44                       0.389955                         0.551899   \n",
       "45                       0.331946                        -0.127476   \n",
       "46                       0.165695                         0.292869   \n",
       "\n",
       "    Arithmetic Return - Dry Well     Avg Cost  \n",
       "31                      0.200544   431.566667  \n",
       "32                     -0.189483   382.000000  \n",
       "33                      0.084172   421.833333  \n",
       "34                      0.267733   478.700000  \n",
       "35                     -0.020956   508.900000  \n",
       "36                      0.124273   499.333333  \n",
       "37                      0.211830   609.933333  \n",
       "38                      0.484442   784.933333  \n",
       "39                      0.146219   898.966667  \n",
       "40                     -0.035948   808.566667  \n",
       "41                      0.506788  1082.000000  \n",
       "42                      0.032708  1182.700000  \n",
       "43                      0.234074  1402.800000  \n",
       "44                     -0.042516  1711.833333  \n",
       "45                      0.210186  1936.966667  \n",
       "46                      0.113544  2279.800000  "
      ]
     },
     "execution_count": 38,
     "metadata": {},
     "output_type": "execute_result"
    }
   ],
   "source": [
    "cost\n"
   ]
  },
  {
   "cell_type": "markdown",
   "metadata": {},
   "source": [
    "### Check normality"
   ]
  },
  {
   "cell_type": "code",
   "execution_count": 39,
   "metadata": {},
   "outputs": [
    {
     "data": {
      "image/png": "[encoded data removed]",
      "text/plain": [
       "<Figure size 800x600 with 1 Axes>"
      ]
     },
     "metadata": {},
     "output_type": "display_data"
    }
   ],
   "source": [
    "import scipy.stats as stats\n",
    "import numpy as np\n",
    "import matplotlib.pyplot as plt\n",
    "\n",
    "arithmetic_changes = cost[[\"Arithmetic Return - Natural Gas\", \"Arithmetic Return - Dry Well\", \"Arithmetic Return - Crude Oil\"]].values\n",
    "\n",
    "all_data = arithmetic_changes.flatten()\n",
    "\n",
    "#QQplot\n",
    "fig, ax = plt.subplots(figsize=(8, 6))\n",
    "stats.probplot(all_data, dist=\"norm\", plot=ax)\n",
    "ax.set_title('Combined Arithmetic Returns')\n",
    "\n",
    "plt.show()\n"
   ]
  },
  {
   "cell_type": "markdown",
   "metadata": {},
   "source": [
    "### Simulation with Normal Distribution"
   ]
  },
  {
   "cell_type": "code",
   "execution_count": 40,
   "metadata": {},
   "outputs": [],
   "source": [
    "arithmetic_changes= cost[[\"Arithmetic Return - Natural Gas\", \"Arithmetic Return - Dry Well\", \"Arithmetic Return - Crude Oil\"]].values.tolist()\n",
    "arithmetic_changes = np.array(arithmetic_changes)\n",
    "flat_arithmetic_changes = [item for sublist in arithmetic_changes for item in sublist]"
   ]
  },
  {
   "cell_type": "code",
   "execution_count": 41,
   "metadata": {},
   "outputs": [
    {
     "data": {
      "text/plain": [
       "0.13149126581580003"
      ]
     },
     "execution_count": 41,
     "metadata": {},
     "output_type": "execute_result"
    }
   ],
   "source": [
    "np.mean(flat_arithmetic_changes)"
   ]
  },
  {
   "cell_type": "code",
   "execution_count": 42,
   "metadata": {},
   "outputs": [
    {
     "data": {
      "text/plain": [
       "0.17656869616614107"
      ]
     },
     "execution_count": 42,
     "metadata": {},
     "output_type": "execute_result"
    }
   ],
   "source": [
    "np.std(flat_arithmetic_changes)"
   ]
  },
  {
   "cell_type": "code",
   "execution_count": 43,
   "metadata": {},
   "outputs": [],
   "source": [
    "np.random.seed(112358)\n",
    "\n",
    "data = []\n",
    "arithmetic_changes= cost[[\"Arithmetic Return - Natural Gas\", \"Arithmetic Return - Dry Well\", \"Arithmetic Return - Crude Oil\"]].values.tolist()\n",
    "arithmetic_changes = np.array(arithmetic_changes)\n",
    "flat_arithmetic_changes = [item for sublist in arithmetic_changes for item in sublist]\n",
    "P0 = 2279800\n",
    "\n",
    "\n",
    "data = []\n",
    "for i in range(500000):\n",
    "\n",
    "   \n",
    "    Pt = P0 * (1 + ret)\n",
    "  \n",
    "    # normal dist for 2006-2012\n",
    "    for j in range(7):\n",
    "        ret = np.random.normal(loc = 0.131, scale = 0.178)\n",
    "        Pt = Pt * (1 + ret)\n",
    "    # triangular dist for 2012-2015\n",
    "    for j in range(3):\n",
    "        ret = np.random.triangular(left = -0.22, mode = -0.0917, right = -0.07)\n",
    "        Pt = Pt * (1 + ret)\n",
    "    # triangular dist for 2015-2026\n",
    "    for j in range(11):\n",
    "        ret = np.random.triangular(left = 0.02, mode = 0.05, right = 0.06)\n",
    "        Pt = Pt * (1 + ret)\n",
    "        \n",
    "    data.append(Pt)\n",
    "  "
   ]
  },
  {
   "cell_type": "code",
   "execution_count": 46,
   "metadata": {},
   "outputs": [
    {
     "name": "stderr",
     "output_type": "stream",
     "text": [
      "/opt/anaconda3/lib/python3.11/site-packages/seaborn/_oldcore.py:1119: FutureWarning: use_inf_as_na option is deprecated and will be removed in a future version. Convert inf values to NaN before operating instead.\n",
      "  with pd.option_context('mode.use_inf_as_na', True):\n"
     ]
    },
    {
     "data": {
      "image/png": "[encoded data removed]",
      "text/plain": [
       "<Figure size 640x480 with 1 Axes>"
      ]
     },
     "metadata": {},
     "output_type": "display_data"
    }
   ],
   "source": [
    "df = pd.DataFrame(data)\n",
    "\n",
    "#histogram\n",
    "ax = sns.histplot(data=df / 1e6, bins=100)\n",
    "\n",
    "ax.set_xlabel(\"2025 Cost (Million USD)\")\n",
    "ax.set_title(\"Simulation with Normal Distribution\")\n",
    "\n",
    "#remove legend\n",
    "if ax.legend_:\n",
    "    ax.legend_.remove()\n",
    "\n",
    "plt.show()"
   ]
  },
  {
   "cell_type": "markdown",
   "metadata": {},
   "source": [
    "# Homework 2"
   ]
  },
  {
   "cell_type": "code",
   "execution_count": 47,
   "metadata": {},
   "outputs": [],
   "source": [
    "dry_well_cost = df.to_numpy()\n",
    "dry_well_cost = dry_well_cost.flatten()"
   ]
  },
  {
   "cell_type": "markdown",
   "metadata": {},
   "source": [
    "### Dry Well Cost"
   ]
  },
  {
   "cell_type": "code",
   "execution_count": 48,
   "metadata": {},
   "outputs": [],
   "source": [
    "simulation_size = 500000"
   ]
  },
  {
   "cell_type": "code",
   "execution_count": 49,
   "metadata": {},
   "outputs": [
    {
     "name": "stderr",
     "output_type": "stream",
     "text": [
      "/opt/anaconda3/lib/python3.11/site-packages/seaborn/_oldcore.py:1119: FutureWarning: use_inf_as_na option is deprecated and will be removed in a future version. Convert inf values to NaN before operating instead.\n",
      "  with pd.option_context('mode.use_inf_as_na', True):\n"
     ]
    },
    {
     "data": {
      "image/png": "[encoded data removed]",
      "text/plain": [
       "<Figure size 640x480 with 1 Axes>"
      ]
     },
     "metadata": {},
     "output_type": "display_data"
    }
   ],
   "source": [
    "# Seismic and lease costs\n",
    "leased_acres_per_well = np.random.normal(600, 50, simulation_size)\n",
    "seismic_sections_per_well = np.random.normal(3, 0.35, simulation_size)\n",
    "\n",
    "price_per_acre = 960\n",
    "seismic_cost_per_section = 43000\n",
    "\n",
    "lease_costs = leased_acres_per_well * price_per_acre\n",
    "seismic_costs = seismic_sections_per_well * seismic_cost_per_section\n",
    "\n",
    "\n",
    "# Completion Costs\n",
    "completion_costs = np.random.normal(390000, 50000, simulation_size)\n",
    "\n",
    "# Professional overhead\n",
    "prof_overhead_costs = np.random.triangular(left=172000, mode=215000, right=279500, size= simulation_size)\n",
    "\n",
    "# Cost of single dry well\n",
    "total_dry_drilling_costs = dry_well_cost + lease_costs + seismic_costs + prof_overhead_costs\n",
    "total_dry_drilling_costs = total_dry_drilling_costs.flatten()\n",
    "\n",
    "# Plot Distribution\n",
    "ax = sns.histplot(data=total_dry_drilling_costs/1e6, bins=100)\n",
    "ax.set(xlabel=\"Total Drilling Cost (Million USD)\")\n",
    "ax.set_title('Cost Simulation for a Single Dry Well')\n",
    "plt.show()\n"
   ]
  },
  {
   "cell_type": "code",
   "execution_count": 50,
   "metadata": {},
   "outputs": [
    {
     "name": "stdout",
     "output_type": "stream",
     "text": [
      "Median Dry Drilling Cost: 6439449.829609517\n"
     ]
    }
   ],
   "source": [
    "\n",
    "median_dry_drilling_cost = np.median(total_dry_drilling_costs)\n",
    "print(\"Median Dry Drilling Cost:\", median_dry_drilling_cost)"
   ]
  },
  {
   "cell_type": "markdown",
   "metadata": {},
   "source": [
    "### NPV of Wet Well"
   ]
  },
  {
   "cell_type": "code",
   "execution_count": 52,
   "metadata": {},
   "outputs": [],
   "source": [
    "import numpy as np\n",
    "import pandas as pd\n",
    "import scipy.stats as stats\n",
    "import scipy.linalg as sp\n",
    "import seaborn as sns\n",
    "import matplotlib.pyplot as plt\n",
    "\n",
    "# Set seed for reproducibility\n",
    "np.random.seed(112358)\n",
    "\n",
    "# Simulation settings\n",
    "simSize = 500000\n",
    "num_years = 15\n",
    "\n",
    "# **Seismic & Lease Costs**\n",
    "leased_acres_per_well = np.random.normal(600, 50, simSize)\n",
    "seismic_sections_per_well = np.random.normal(3, 0.35, simSize)\n",
    "\n",
    "price_per_acre = 960\n",
    "seismic_cost_per_section = 43000\n",
    "\n",
    "lease_costs = leased_acres_per_well * price_per_acre\n",
    "seismic_costs = seismic_sections_per_well * seismic_cost_per_section\n",
    "\n",
    "# **Completion & Overhead Costs**\n",
    "completion = np.random.normal(390000, 50000, simSize)\n",
    "overhead = np.random.triangular(172000, 215000, 279500, simSize)\n",
    "\n",
    "\n",
    "# **Lognormal to Normal Conversion for Initial Production (IP)**\n",
    "log_avg = 420\n",
    "log_std = 120\n",
    "sigma_normal = np.sqrt(np.log(1 + (log_std / log_avg) ** 2))\n",
    "mean_normal = np.log(log_avg) - sigma_normal**2 / 2\n",
    "\n",
    "# **Initial Production (IP) & Decline Rate**\n",
    "IP = np.random.lognormal(mean=6, sigma=0.28, size=simSize)\n",
    "decline = np.random.uniform(0.15, 0.32, size=simSize)\n",
    "\n",
    "# **Apply Correlation between IP and Decline Rate**\n",
    "R = np.array([[1, 0.64], [0.64, 1]])\n",
    "U = sp.cholesky(R, lower=False)\n",
    "\n",
    "def standardize(x):\n",
    "    return (x - np.mean(x)) / np.std(x)\n",
    "\n",
    "def destandardize(x_std, x_original):\n",
    "    return x_std * np.std(x_original) + np.mean(x_original)\n",
    "\n",
    "both_vars = np.array([standardize(IP), standardize(decline)])\n",
    "correlated_vars = U @ both_vars\n",
    "final_rate = np.array([destandardize(correlated_vars[0], IP), destandardize(correlated_vars[1], decline)])\n",
    "\n",
    "# **Revenue Interest**\n",
    "interest = np.random.normal(0.75, 0.02, size=simSize)\n",
    "\n",
    "# **Initialize NPV Calculation**\n",
    "yearBegin = np.array(final_rate[0])\n",
    "npv = -(total_dry_drilling_costs + completion)\n",
    "\n"
   ]
  },
  {
   "cell_type": "code",
   "execution_count": 53,
   "metadata": {},
   "outputs": [
    {
     "name": "stdout",
     "output_type": "stream",
     "text": [
      "NPV Min/Max:  -17576492.13388392 102471143.92618935\n"
     ]
    },
    {
     "name": "stderr",
     "output_type": "stream",
     "text": [
      "/opt/anaconda3/lib/python3.11/site-packages/seaborn/_oldcore.py:1119: FutureWarning: use_inf_as_na option is deprecated and will be removed in a future version. Convert inf values to NaN before operating instead.\n",
      "  with pd.option_context('mode.use_inf_as_na', True):\n"
     ]
    },
    {
     "data": {
      "image/png": "[encoded data removed]",
      "text/plain": [
       "<Figure size 640x480 with 1 Axes>"
      ]
     },
     "metadata": {},
     "output_type": "display_data"
    }
   ],
   "source": [
    "price['Year'] = price['Year'].astype(int)\n",
    "\n",
    "for i in range(15):\n",
    "    yearEnd = yearBegin * (1 - final_rate[1])\n",
    "    \n",
    "    production = 365 * (yearBegin + yearEnd) / 2\n",
    "    \n",
    "    year_filter = price.loc[price['Year'] == (2026 + i)]\n",
    "    if not year_filter.empty:\n",
    "        low = year_filter.iloc[0]['Low Oil Price']\n",
    "        high = year_filter.iloc[0]['High Oil Price']\n",
    "        exp = year_filter.iloc[0]['AEO2023 Reference']\n",
    "    else:\n",
    "        print(f\"Warning: Year {2026 + i} not found in price data\")\n",
    "        continue\n",
    "    \n",
    "    #oil price\n",
    "    price_sim = np.random.triangular(low, exp, high, size=simSize)\n",
    "    \n",
    "    # Net Revenue & Severance Tax \n",
    "    revenue = production * price_sim * interest * (1 - 0.046)\n",
    "\n",
    "    # operation cost\n",
    "    operate = np.full(simSize, np.random.normal(loc=2.25, scale=0.3), dtype=float) \n",
    "    \n",
    "    # npv\n",
    "    npv += (revenue - operate - overhead) / (1.1 ** (i + 1))\n",
    "        \n",
    "    # update\n",
    "    yearBegin = np.array(yearEnd).reshape(-1)  # reshape\n",
    "\n",
    "# final NPV\n",
    "print(\"NPV Min/Max: \", np.min(npv), np.max(npv))\n",
    "\n",
    "# histo\n",
    "ax = sns.histplot(data=pd.DataFrame(npv)/1e6, bins=100, legend=False)\n",
    "ax.set(xlabel=\"Net Present Value (Million USD)\", title=\"Net Present Value Simulation for a Single Wet Well\")\n",
    "plt.show()\n"
   ]
  },
  {
   "cell_type": "code",
   "execution_count": 54,
   "metadata": {},
   "outputs": [
    {
     "name": "stdout",
     "output_type": "stream",
     "text": [
      "18587690.63392386\n"
     ]
    }
   ],
   "source": [
    "print(np.median(npv))"
   ]
  }
 ],
 "metadata": {
  "kernelspec": {
   "display_name": "base",
   "language": "python",
   "name": "python3"
  },
  "language_info": {
   "codemirror_mode": {
    "name": "ipython",
    "version": 3
   },
   "file_extension": ".py",
   "mimetype": "text/x-python",
   "name": "python",
   "nbconvert_exporter": "python",
   "pygments_lexer": "ipython3",
   "version": "3.11.7"
  }
 },
 "nbformat": 4,
 "nbformat_minor": 2
}
